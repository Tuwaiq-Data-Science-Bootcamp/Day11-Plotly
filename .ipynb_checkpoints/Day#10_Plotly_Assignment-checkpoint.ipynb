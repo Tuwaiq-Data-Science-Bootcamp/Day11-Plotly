{
 "cells": [
  {
   "cell_type": "code",
   "execution_count": null,
   "id": "be6ec529",
   "metadata": {},
   "outputs": [],
   "source": [
    "import numpy as np\n",
    "import pandas as pd\n",
    "import matplotlib.pyplot as plt\n",
    "import seaborn as sns\n",
    "import plotly.express as px\n",
    "import ast \n",
    "from collections import Counter\n",
    "from wordcloud import WordCloud"
   ]
  },
  {
   "cell_type": "code",
   "execution_count": null,
   "id": "59cbd467",
   "metadata": {},
   "outputs": [],
   "source": [
    "movies = pd.read_csv('tmdb_5000_movies.csv')\n",
    "credits = pd.read_csv('tmdb_5000_credits.csv')"
   ]
  },
  {
   "cell_type": "code",
   "execution_count": null,
   "id": "99e87dbc",
   "metadata": {},
   "outputs": [],
   "source": [
    "movies.head(3)"
   ]
  },
  {
   "cell_type": "code",
   "execution_count": null,
   "id": "01ec981d",
   "metadata": {},
   "outputs": [],
   "source": [
    "credits.head()"
   ]
  },
  {
   "cell_type": "code",
   "execution_count": null,
   "id": "73ef6d91",
   "metadata": {},
   "outputs": [],
   "source": [
    "print(\"Shape of movies dataset:\",movies.shape)\n",
    "print(\"Shape of credits dataset:\",credits.shape)"
   ]
  },
  {
   "cell_type": "code",
   "execution_count": null,
   "id": "b33dfcba",
   "metadata": {},
   "outputs": [],
   "source": [
    "movies.info()"
   ]
  },
  {
   "cell_type": "code",
   "execution_count": null,
   "id": "15d02ee0",
   "metadata": {},
   "outputs": [],
   "source": [
    "credits.info()"
   ]
  },
  {
   "cell_type": "code",
   "execution_count": null,
   "id": "1f7c96be",
   "metadata": {},
   "outputs": [],
   "source": [
    "# Joining the two datsets\n",
    "movies = pd.merge(left = movies, right = credits, on='title')"
   ]
  },
  {
   "cell_type": "code",
   "execution_count": null,
   "id": "7fba2553",
   "metadata": {},
   "outputs": [],
   "source": [
    "movies = movies.drop(columns=['homepage','tagline','id','overview','status','original_title','movie_id'])"
   ]
  },
  {
   "cell_type": "code",
   "execution_count": null,
   "id": "4c0d432f",
   "metadata": {},
   "outputs": [],
   "source": [
    "movies.head(3)"
   ]
  },
  {
   "cell_type": "code",
   "execution_count": null,
   "id": "d0a621ce",
   "metadata": {},
   "outputs": [],
   "source": [
    "movies['genres'][0]"
   ]
  },
  {
   "cell_type": "code",
   "execution_count": null,
   "id": "2b2a785f",
   "metadata": {},
   "outputs": [],
   "source": [
    "# Tidying up genre, production_companies and production_countries column\n",
    "def func(obj):\n",
    "    List = []\n",
    "    for i in ast.literal_eval(obj):\n",
    "        List.append(i['name'])\n",
    "    return List"
   ]
  },
  {
   "cell_type": "code",
   "execution_count": null,
   "id": "74b5d75d",
   "metadata": {},
   "outputs": [],
   "source": [
    "movies['genres'] = movies['genres'].apply(func)\n",
    "movies['genres'][0]"
   ]
  },
  {
   "cell_type": "code",
   "execution_count": null,
   "id": "c3ec685b",
   "metadata": {},
   "outputs": [],
   "source": [
    "movies['production_companies'] = movies['production_companies'].apply(func)\n",
    "movies['production_countries'] = movies['production_countries'].apply(func)\n",
    "movies.head(3)"
   ]
  },
  {
   "cell_type": "code",
   "execution_count": null,
   "id": "d111c0d4",
   "metadata": {},
   "outputs": [],
   "source": [
    "genres = Counter()\n",
    "for i in range(movies.shape[0]):\n",
    "    for j in movies.genres[i]:\n",
    "        genres[j]+=1\n",
    "Genres = pd.DataFrame.from_dict(genres, orient='index').reset_index()\n",
    "Genres = Genres.rename(columns = {'index': 'Genres' ,0: 'Frequency'})\n",
    "Genres.loc[Genres['Frequency'] < 200, 'Genres'] = 'Others'"
   ]
  },
  {
   "cell_type": "markdown",
   "id": "bb11bb83",
   "metadata": {},
   "source": [
    "# Q1: Use bar chart to draw genres of movies."
   ]
  },
  {
   "cell_type": "code",
   "execution_count": null,
   "id": "ade68057",
   "metadata": {},
   "outputs": [],
   "source": [
    "movies.iplot(kind='genres')"
   ]
  },
  {
   "cell_type": "markdown",
   "id": "f3d2d9b5",
   "metadata": {},
   "source": [
    "# Q2: Use pie chart to draw top 5 languages."
   ]
  },
  {
   "cell_type": "code",
   "execution_count": null,
   "id": "8508f85d",
   "metadata": {},
   "outputs": [],
   "source": [
    "# Top Production Counties\n",
    "prod_cont = Counter()\n",
    "for i in range(movies.shape[0]):\n",
    "    for j in movies.production_countries[i]:\n",
    "        prod_cont[j]+=1\n",
    "movie_prod_cont = pd.DataFrame.from_dict(prod_cont, orient='index').reset_index()\n",
    "movie_prod_cont = movie_prod_cont.rename(columns = {'index': 'Production Country' ,0: 'Frequency'})\n",
    "movie_prod_cont=movie_prod_cont.sort_values(by = ['Frequency'],ascending=False).reset_index().head(5)\n",
    "movie_prod_cont"
   ]
  },
  {
   "cell_type": "code",
   "execution_count": null,
   "id": "e2d3720d",
   "metadata": {},
   "outputs": [],
   "source": []
  },
  {
   "cell_type": "markdown",
   "id": "771c815a",
   "metadata": {},
   "source": [
    "# Q3: Use WordCloud to draw genres."
   ]
  },
  {
   "cell_type": "code",
   "execution_count": null,
   "id": "b3a027ad",
   "metadata": {},
   "outputs": [],
   "source": [
    "# Start with one review:\n",
    "text = movies['genres']\n",
    "\n",
    "# Create and generate a word cloud image:\n",
    "wordcloud = WordCloud().generate(text)\n",
    "\n",
    "# Display the generated image:\n",
    "plt.imshow(wordcloud, interpolation='bilinear')\n",
    "plt.axis(\"off\")\n",
    "plt.show()"
   ]
  },
  {
   "cell_type": "markdown",
   "id": "3e3cb899",
   "metadata": {},
   "source": [
    "# Q4: Use scatter to draw the relationship between budget and revenue."
   ]
  },
  {
   "cell_type": "code",
   "execution_count": null,
   "id": "5c6830b6",
   "metadata": {},
   "outputs": [],
   "source": [
    "fig = px.scatter(df, \n",
    "                 x=\"budget\", y=\"revenue\", \n",
    "                 color=\"species\", facet_row=\"species\",# separate rows based on the selected column\n",
    "                 size='petal_length', title = \"Plotly Scatter Chart\")\n",
    "fig.show()"
   ]
  },
  {
   "cell_type": "markdown",
   "id": "984c6076",
   "metadata": {},
   "source": [
    "# Q5: Use line chart to draw the relationship between revenue and popularity."
   ]
  },
  {
   "cell_type": "code",
   "execution_count": null,
   "id": "34c344d9",
   "metadata": {},
   "outputs": [],
   "source": [
    "fig = px.line(df, \n",
    "              x=\"revenue\", \n",
    "              y=\"popularity\", \n",
    "              #color=\"species\", \n",
    "              hover_data = [\"species\", \"petal_width\"], # Add more data when hover \n",
    "              title = \"Plotly Line Chart\")\n",
    "fig.show()"
   ]
  },
  {
   "cell_type": "markdown",
   "id": "c821cd4e",
   "metadata": {},
   "source": [
    "# Q6: Draw an extra chart from your choice."
   ]
  },
  {
   "cell_type": "code",
   "execution_count": null,
   "id": "9e433052",
   "metadata": {},
   "outputs": [],
   "source": [
    "fig = px.bar(df,\n",
    "    x = df[\"revenue\"].value_counts().index, # labels \n",
    "    y = df[\"popularity\"].value_counts().values, # values\n",
    "    labels={\"x\":\"Species Catagories\", \"y\":\"Count\"},\n",
    "    title = \"Plotly Bar Chart\")\n",
    "fig.show()"
   ]
  }
 ],
 "metadata": {
  "kernelspec": {
   "display_name": "Python 3 (ipykernel)",
   "language": "python",
   "name": "python3"
  },
  "language_info": {
   "codemirror_mode": {
    "name": "ipython",
    "version": 3
   },
   "file_extension": ".py",
   "mimetype": "text/x-python",
   "name": "python",
   "nbconvert_exporter": "python",
   "pygments_lexer": "ipython3",
   "version": "3.7.13"
  }
 },
 "nbformat": 4,
 "nbformat_minor": 5
}
