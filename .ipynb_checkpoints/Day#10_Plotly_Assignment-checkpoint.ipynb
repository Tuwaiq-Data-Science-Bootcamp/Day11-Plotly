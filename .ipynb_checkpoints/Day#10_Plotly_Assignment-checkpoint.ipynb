{
 "cells": [
  {
   "cell_type": "code",
   "execution_count": null,
   "id": "de3c2bfe",
   "metadata": {},
   "outputs": [],
   "source": [
    "import numpy as np\n",
    "import pandas as pd\n",
    "import matplotlib.pyplot as plt\n",
    "import seaborn as sns\n",
    "import plotly.express as px\n",
    "import ast \n",
    "from collections import Counter\n",
    "from wordcloud import WordCloud\n",
    "import cufflinks as cf\n",
    "from plotly.offline import download_plotlyjs, init_notebook_mode, plot, iplot"
   ]
  },
  {
   "cell_type": "code",
   "execution_count": null,
   "id": "e5215f77",
   "metadata": {},
   "outputs": [],
   "source": [
    "movies = pd.read_csv('/Users/ahadalmutiri/Desktop/Lab1-Plotly/Day11-Plotly/Dataset/tmdb_5000_movies.csv')\n",
    "credits = pd.read_csv('/Users/ahadalmutiri/Desktop/Lab1-Plotly/Day11-Plotly/Dataset/tmdb_5000_credits.csv')"
   ]
  },
  {
   "cell_type": "code",
   "execution_count": null,
   "id": "129c51c3",
   "metadata": {},
   "outputs": [],
   "source": [
    "movies.head(3)"
   ]
  },
  {
   "cell_type": "code",
   "execution_count": null,
   "id": "40ed364f",
   "metadata": {},
   "outputs": [],
   "source": [
    "credits.head()"
   ]
  },
  {
   "cell_type": "code",
   "execution_count": null,
   "id": "438cb66d",
   "metadata": {},
   "outputs": [],
   "source": [
    "print(\"Shape of movies dataset:\",movies.shape)\n",
    "print(\"Shape of credits dataset:\",credits.shape)"
   ]
  },
  {
   "cell_type": "code",
   "execution_count": null,
   "id": "2f3ebd3e",
   "metadata": {},
   "outputs": [],
   "source": [
    "movies.info()"
   ]
  },
  {
   "cell_type": "code",
   "execution_count": null,
   "id": "ec95b519",
   "metadata": {},
   "outputs": [],
   "source": [
    "credits.info()"
   ]
  },
  {
   "cell_type": "code",
   "execution_count": null,
   "id": "4dedfe7b",
   "metadata": {},
   "outputs": [],
   "source": [
    "# Joining the two datsets\n",
    "movies = pd.merge(left = movies, right = credits, on='title')"
   ]
  },
  {
   "cell_type": "code",
   "execution_count": null,
   "id": "4d17b56b",
   "metadata": {},
   "outputs": [],
   "source": [
    "movies = movies.drop(columns=['homepage','tagline','id','overview','status','original_title','movie_id'])"
   ]
  },
  {
   "cell_type": "code",
   "execution_count": null,
   "id": "d77d6527",
   "metadata": {},
   "outputs": [],
   "source": [
    "movies.head(3)"
   ]
  },
  {
   "cell_type": "code",
   "execution_count": null,
   "id": "380c959b",
   "metadata": {},
   "outputs": [],
   "source": [
    "movies['genres'][0]"
   ]
  },
  {
   "cell_type": "code",
   "execution_count": null,
   "id": "d8a609d5",
   "metadata": {},
   "outputs": [],
   "source": [
    "# Tidying up genre, production_companies and production_countries column\n",
    "def func(obj):\n",
    "    List = []\n",
    "    for i in ast.literal_eval(obj):\n",
    "        List.append(i['name'])\n",
    "    return List"
   ]
  },
  {
   "cell_type": "code",
   "execution_count": null,
   "id": "2f6571cb",
   "metadata": {},
   "outputs": [],
   "source": [
    "movies['genres'] = movies['genres'].apply(func)\n",
    "movies['genres'][0]"
   ]
  },
  {
   "cell_type": "code",
   "execution_count": null,
   "id": "0fa6cb8f",
   "metadata": {},
   "outputs": [],
   "source": [
    "movies['production_companies'] = movies['production_companies'].apply(func)\n",
    "movies['production_countries'] = movies['production_countries'].apply(func)\n",
    "movies.head(3)"
   ]
  },
  {
   "cell_type": "code",
   "execution_count": null,
   "id": "f327a039",
   "metadata": {},
   "outputs": [],
   "source": [
    "genres = Counter()\n",
    "for i in range(movies.shape[0]):\n",
    "    for j in movies.genres[i]:\n",
    "        genres[j]+=1\n",
    "Genres = pd.DataFrame.from_dict(genres, orient='index').reset_index()\n",
    "Genres = Genres.rename(columns = {'index': 'Genres' ,0: 'Frequency'})\n",
    "Genres.loc[Genres['Frequency'] < 200, 'Genres'] = 'Others'\n"
   ]
  },
  {
   "cell_type": "code",
   "execution_count": null,
   "id": "3ec6401f",
   "metadata": {},
   "outputs": [],
   "source": [
    "Genres"
   ]
  },
  {
   "cell_type": "code",
   "execution_count": null,
   "id": "aadf574b",
   "metadata": {},
   "outputs": [],
   "source": []
  },
  {
   "cell_type": "markdown",
   "id": "03acefee",
   "metadata": {},
   "source": [
    "# Q1: Use bar chart to draw genres of movies."
   ]
  },
  {
   "cell_type": "code",
   "execution_count": null,
   "id": "8ffedd14",
   "metadata": {},
   "outputs": [],
   "source": []
  },
  {
   "cell_type": "code",
   "execution_count": null,
   "id": "f6c74418",
   "metadata": {},
   "outputs": [],
   "source": [
    "Genres.iplot(kind='bar',x='Genres',y='Frequency')\n",
    "plt.show()"
   ]
  },
  {
   "cell_type": "markdown",
   "id": "7c3b77d2",
   "metadata": {},
   "source": [
    "# Q2: Use pie chart to draw top 5 languages."
   ]
  },
  {
   "cell_type": "code",
   "execution_count": null,
   "id": "36243a6a",
   "metadata": {},
   "outputs": [],
   "source": [
    "# Top Production Counties\n",
    "prod_cont = Counter()\n",
    "for i in range(movies.shape[0]):\n",
    "    for j in movies.production_countries[i]:\n",
    "        prod_cont[j]+=1\n",
    "movie_prod_cont = pd.DataFrame.from_dict(prod_cont, orient='index').reset_index()\n",
    "movie_prod_cont = movie_prod_cont.rename(columns = {'index': 'Production Country' ,0: 'Frequency'})\n",
    "movie_prod_cont=movie_prod_cont.sort_values(by = ['Frequency'],ascending=False).reset_index().head(5)\n",
    "movie_prod_cont"
   ]
  },
  {
   "cell_type": "code",
   "execution_count": null,
   "id": "a5619473",
   "metadata": {
    "scrolled": true
   },
   "outputs": [],
   "source": [
    "movie_prod_cont.groupby(['Production Country']).sum().plot(kind='pie', y='Frequency');"
   ]
  },
  {
   "cell_type": "code",
   "execution_count": null,
   "id": "7c84318b",
   "metadata": {},
   "outputs": [],
   "source": []
  },
  {
   "cell_type": "code",
   "execution_count": null,
   "id": "98285531",
   "metadata": {},
   "outputs": [],
   "source": []
  },
  {
   "cell_type": "code",
   "execution_count": null,
   "id": "a096e371",
   "metadata": {},
   "outputs": [],
   "source": []
  },
  {
   "cell_type": "code",
   "execution_count": null,
   "id": "374c8661",
   "metadata": {},
   "outputs": [],
   "source": []
  },
  {
   "cell_type": "markdown",
   "id": "24881318",
   "metadata": {},
   "source": [
    "# Q3: Use WordCloud to draw genres."
   ]
  },
  {
   "cell_type": "code",
   "execution_count": null,
   "id": "93cd55d2",
   "metadata": {},
   "outputs": [],
   "source": [
    "wordCloud =WordCloud(background_color=\"white\").generate(str(Genres['Genres']))\n",
    "plt.imshow(wordCloud)\n",
    "plt.axis(\"off\")\n",
    "plt.show()"
   ]
  },
  {
   "cell_type": "code",
   "execution_count": null,
   "id": "983906d1",
   "metadata": {},
   "outputs": [],
   "source": []
  },
  {
   "cell_type": "markdown",
   "id": "605ba81d",
   "metadata": {},
   "source": [
    "# Q4: Use scatter to draw the relationship between budget and revenue."
   ]
  },
  {
   "cell_type": "code",
   "execution_count": null,
   "id": "895d9193",
   "metadata": {},
   "outputs": [],
   "source": [
    "##movies.iplot(kind='scatter', x='budget', y='revenue', mode='markers',size=10)\n",
    "fig = px.scatter(movies, x=\"budget\", y=\"revenue\",title = \"Scatter Chart\")\n",
    "fig.show()"
   ]
  },
  {
   "cell_type": "markdown",
   "id": "d6b5149a",
   "metadata": {},
   "source": [
    "# Q5: Use line chart to draw the relationship between revenue and popularity."
   ]
  },
  {
   "cell_type": "code",
   "execution_count": null,
   "id": "8d5b4ffe",
   "metadata": {},
   "outputs": [],
   "source": [
    "fig = px.line(movies,x=\"revenue\",y=\"popularity\",title = \"Line Chart\")\n",
    "fig.show()"
   ]
  },
  {
   "cell_type": "markdown",
   "id": "ccd30de2",
   "metadata": {},
   "source": [
    "# Q6: Draw an extra chart from your choice."
   ]
  },
  {
   "cell_type": "code",
   "execution_count": null,
   "id": "e903628d",
   "metadata": {},
   "outputs": [],
   "source": [
    "movie_prod_cont['Production Country'].iplot(kind='hist',bins=25)"
   ]
  },
  {
   "cell_type": "code",
   "execution_count": null,
   "id": "b073b77b",
   "metadata": {},
   "outputs": [],
   "source": []
  }
 ],
 "metadata": {
  "kernelspec": {
   "display_name": "Python 3 (ipykernel)",
   "language": "python",
   "name": "python3"
  },
  "language_info": {
   "codemirror_mode": {
    "name": "ipython",
    "version": 3
   },
   "file_extension": ".py",
   "mimetype": "text/x-python",
   "name": "python",
   "nbconvert_exporter": "python",
   "pygments_lexer": "ipython3",
   "version": "3.9.13"
  }
 },
 "nbformat": 4,
 "nbformat_minor": 5
}
